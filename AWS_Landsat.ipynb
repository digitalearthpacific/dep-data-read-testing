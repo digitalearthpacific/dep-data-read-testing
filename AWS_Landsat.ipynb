{
 "cells": [
  {
   "cell_type": "code",
   "execution_count": null,
   "metadata": {},
   "outputs": [],
   "source": [
    "from pystac_client import Client\n",
    "from odc.stac import load, configure_s3_access\n",
    "import os\n",
    "\n",
    "from config import EXTENT, DATES, LOAD_ARGS, switch_usgs_urls"
   ]
  },
  {
   "cell_type": "code",
   "execution_count": null,
   "metadata": {},
   "outputs": [],
   "source": [
    "del os.environ[\"AWS_NO_SIGN_REQUEST\"]"
   ]
  },
  {
   "cell_type": "code",
   "execution_count": null,
   "metadata": {},
   "outputs": [],
   "source": [
    "client = Client.open(\"https://landsatlook.usgs.gov/stac-server\")\n",
    "\n",
    "items = list(client.search(\n",
    "    bbox=EXTENT,\n",
    "    datetime=DATES,\n",
    "    collections=[\"landsat-c2l2-sr\"],\n",
    ").items())\n",
    "\n",
    "switch_usgs_urls(items)\n",
    "\n",
    "print(f\"Found {len(items)} items\")"
   ]
  },
  {
   "cell_type": "code",
   "execution_count": null,
   "metadata": {},
   "outputs": [],
   "source": [
    "creds = configure_s3_access(cloud_defaults=True, requester_pays=True)\n",
    "configure_rio(cloud_defaults=True, requester_pays=True)\n",
    "\n",
    "data = load(\n",
    "    items,\n",
    "    bbox=EXTENT,\n",
    "    bands=[\"red\", \"green\", \"blue\", \"qa_pixel\"],\n",
    "    **LOAD_ARGS\n",
    ")\n",
    "data"
   ]
  },
  {
   "cell_type": "code",
   "execution_count": null,
   "metadata": {},
   "outputs": [],
   "source": [
    "%%time\n",
    "\n",
    "loaded = data.compute()"
   ]
  }
 ],
 "metadata": {
  "kernelspec": {
   "display_name": "Python 3",
   "language": "python",
   "name": "python3"
  },
  "language_info": {
   "codemirror_mode": {
    "name": "ipython",
    "version": 3
   },
   "file_extension": ".py",
   "mimetype": "text/x-python",
   "name": "python",
   "nbconvert_exporter": "python",
   "pygments_lexer": "ipython3",
   "version": "3.11.6"
  }
 },
 "nbformat": 4,
 "nbformat_minor": 2
}
